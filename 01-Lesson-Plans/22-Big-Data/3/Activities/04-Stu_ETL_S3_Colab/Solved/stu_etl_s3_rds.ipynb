{
 "cells": [
  {
   "cell_type": "code",
   "execution_count": 1,
   "metadata": {
    "colab": {
     "base_uri": "https://localhost:8080/"
    },
    "id": "Y6pz7LGh_L1p",
    "outputId": "f51022cf-5e76-4596-ea6f-a78fd6b404e4"
   },
   "outputs": [
    {
     "name": "stdout",
     "output_type": "stream",
     "text": [
      "\r",
      "0% [Working]\r",
      "            \r",
      "Get:1 https://cloud.r-project.org/bin/linux/ubuntu bionic-cran40/ InRelease [3,626 B]\n",
      "\r",
      "0% [Connecting to archive.ubuntu.com] [Connecting to security.ubuntu.com (91.18\r",
      "                                                                               \r",
      "Ign:2 https://developer.download.nvidia.com/compute/cuda/repos/ubuntu1804/x86_64  InRelease\n",
      "\r",
      "0% [Connecting to archive.ubuntu.com] [Connecting to security.ubuntu.com (91.18\r",
      "0% [Connecting to archive.ubuntu.com] [Connecting to security.ubuntu.com (91.18\r",
      "                                                                               \r",
      "Ign:3 https://developer.download.nvidia.com/compute/machine-learning/repos/ubuntu1804/x86_64  InRelease\n",
      "\r",
      "0% [Connecting to archive.ubuntu.com (91.189.88.142)] [Waiting for headers] [Co\r",
      "0% [1 InRelease gpgv 3,626 B] [Connecting to archive.ubuntu.com (91.189.88.142)\r",
      "                                                                               \r",
      "Get:4 https://developer.download.nvidia.com/compute/cuda/repos/ubuntu1804/x86_64  Release [697 B]\n",
      "\r",
      "0% [1 InRelease gpgv 3,626 B] [Connecting to archive.ubuntu.com (91.189.88.142)\r",
      "                                                                               \r",
      "Hit:5 https://developer.download.nvidia.com/compute/machine-learning/repos/ubuntu1804/x86_64  Release\n",
      "\r",
      "0% [1 InRelease gpgv 3,626 B] [Connecting to archive.ubuntu.com (91.189.88.142)\r",
      "                                                                               \r",
      "Get:6 https://developer.download.nvidia.com/compute/cuda/repos/ubuntu1804/x86_64  Release.gpg [836 B]\n",
      "Get:7 http://security.ubuntu.com/ubuntu bionic-security InRelease [88.7 kB]\n",
      "Get:8 https://cloud.r-project.org/bin/linux/ubuntu bionic-cran40/ Packages [60.9 kB]\n",
      "Hit:9 http://archive.ubuntu.com/ubuntu bionic InRelease\n",
      "Get:10 http://ppa.launchpad.net/c2d4u.team/c2d4u4.0+/ubuntu bionic InRelease [15.9 kB]\n",
      "Get:12 http://archive.ubuntu.com/ubuntu bionic-updates InRelease [88.7 kB]\n",
      "Ign:13 https://developer.download.nvidia.com/compute/cuda/repos/ubuntu1804/x86_64  Packages\n",
      "Get:13 https://developer.download.nvidia.com/compute/cuda/repos/ubuntu1804/x86_64  Packages [798 kB]\n",
      "Hit:14 http://ppa.launchpad.net/cran/libgit2/ubuntu bionic InRelease\n",
      "Get:15 http://security.ubuntu.com/ubuntu bionic-security/universe amd64 Packages [1,413 kB]\n",
      "Get:16 http://archive.ubuntu.com/ubuntu bionic-backports InRelease [74.6 kB]\n",
      "Hit:17 http://ppa.launchpad.net/deadsnakes/ppa/ubuntu bionic InRelease\n",
      "Get:18 http://ppa.launchpad.net/graphics-drivers/ppa/ubuntu bionic InRelease [21.3 kB]\n",
      "Get:19 http://security.ubuntu.com/ubuntu bionic-security/main amd64 Packages [2,152 kB]\n",
      "Get:20 http://security.ubuntu.com/ubuntu bionic-security/restricted amd64 Packages [423 kB]\n",
      "Get:21 http://ppa.launchpad.net/c2d4u.team/c2d4u4.0+/ubuntu bionic/main Sources [1,769 kB]\n",
      "Get:22 http://archive.ubuntu.com/ubuntu bionic-updates/restricted amd64 Packages [452 kB]\n",
      "Get:23 http://archive.ubuntu.com/ubuntu bionic-updates/main amd64 Packages [2,584 kB]\n",
      "Get:24 http://ppa.launchpad.net/c2d4u.team/c2d4u4.0+/ubuntu bionic/main amd64 Packages [905 kB]\n",
      "Get:25 http://archive.ubuntu.com/ubuntu bionic-updates/universe amd64 Packages [2,184 kB]\n",
      "Get:26 http://ppa.launchpad.net/graphics-drivers/ppa/ubuntu bionic/main amd64 Packages [41.5 kB]\n",
      "Fetched 13.1 MB in 4s (3,082 kB/s)\n",
      "Reading package lists... Done\n"
     ]
    }
   ],
   "source": [
    "import os\n",
    "# Find the latest version of spark 3.0  from http://www-us.apache.org/dist/spark/ and enter as the spark version\n",
    "# For example:\n",
    "# spark_version = 'spark-3.0.2'\n",
    "spark_version = 'spark-3.<enter version>'\n",
    "os.environ['SPARK_VERSION']=spark_version\n",
    "\n",
    "# Install Spark and Java\n",
    "!apt-get update\n",
    "!apt-get install openjdk-11-jdk-headless -qq > /dev/null\n",
    "!wget -q http://www-us.apache.org/dist/spark/$SPARK_VERSION/$SPARK_VERSION-bin-hadoop2.7.tgz\n",
    "!tar xf $SPARK_VERSION-bin-hadoop2.7.tgz\n",
    "!pip install -q findspark\n",
    "\n",
    "# Set Environment Variables\n",
    "os.environ[\"JAVA_HOME\"] = \"/usr/lib/jvm/java-11-openjdk-amd64\"\n",
    "os.environ[\"SPARK_HOME\"] = f\"/content/{spark_version}-bin-hadoop2.7\"\n",
    "\n",
    "# Start a SparkSession\n",
    "import findspark\n",
    "findspark.init()"
   ]
  },
  {
   "cell_type": "code",
   "execution_count": 2,
   "metadata": {
    "colab": {
     "base_uri": "https://localhost:8080/"
    },
    "id": "3WfxpZ2X4CJU",
    "outputId": "5a7b4026-9dd7-4b49-9044-21642b216c96"
   },
   "outputs": [
    {
     "name": "stdout",
     "output_type": "stream",
     "text": [
      "--2021-05-28 12:09:20--  https://jdbc.postgresql.org/download/postgresql-42.2.9.jar\n",
      "Resolving jdbc.postgresql.org (jdbc.postgresql.org)... 72.32.157.228, 2001:4800:3e1:1::228\n",
      "Connecting to jdbc.postgresql.org (jdbc.postgresql.org)|72.32.157.228|:443... connected.\n",
      "HTTP request sent, awaiting response... 200 OK\n",
      "Length: 914037 (893K) [application/java-archive]\n",
      "Saving to: ‘postgresql-42.2.9.jar’\n",
      "\n",
      "postgresql-42.2.9.j 100%[===================>] 892.61K  5.55MB/s    in 0.2s    \n",
      "\n",
      "2021-05-28 12:09:20 (5.55 MB/s) - ‘postgresql-42.2.9.jar’ saved [914037/914037]\n",
      "\n"
     ]
    }
   ],
   "source": [
    "!wget https://jdbc.postgresql.org/download/postgresql-42.2.9.jar"
   ]
  },
  {
   "cell_type": "code",
   "execution_count": 3,
   "metadata": {
    "id": "bcbSYOVH4CJV"
   },
   "outputs": [],
   "source": [
    "from pyspark.sql import SparkSession\n",
    "spark = SparkSession.builder.appName(\"CloudETL\").config(\"spark.driver.extraClassPath\",\"/content/postgresql-42.2.9.jar\").getOrCreate()"
   ]
  },
  {
   "cell_type": "code",
   "execution_count": 9,
   "metadata": {
    "colab": {
     "base_uri": "https://localhost:8080/"
    },
    "id": "aIGU4Tzs_Q4g",
    "outputId": "63504930-456c-4156-ec67-ea89d0c4ae0c"
   },
   "outputs": [
    {
     "name": "stdout",
     "output_type": "stream",
     "text": [
      "+-----------+--------+--------------------+--------------+------+--------+--------------+----------------+--------------------+------------+\n",
      "|Employee ID|   Email|            Position|Marital Status|Gender|Salaried|Vacation Hours|Sick Leave Hours|  Encrypted Password|    Modified|\n",
      "+-----------+--------+--------------------+--------------+------+--------+--------------+----------------+--------------------+------------+\n",
      "|  295847284|    ken0|Chief Executive O...|             S|     M|       1|            99|              69|F01251E5-96A3-448...|6/30/14 0:00|\n",
      "|  245797967|  terri0|Vice President of...|             S|     F|       1|             1|              20|45E8F437-670D-440...|6/30/14 0:00|\n",
      "|  509647174|roberto0| Engineering Manager|             M|     M|       1|             2|              21|9BBBFB2C-EFBB-421...|6/30/14 0:00|\n",
      "|  112457891|    rob0|Senior Tool Designer|             S|     M|       0|            48|              80|59747955-87B8-443...|6/30/14 0:00|\n",
      "|  695256908|   gail0|     Design Engineer|             M|     F|       1|             5|              22|EC84AE09-F9B8-4A1...|6/30/14 0:00|\n",
      "|  998320692| jossef0|     Design Engineer|             M|     M|       1|             6|              23|E39056F1-9CD5-478...|6/30/14 0:00|\n",
      "|  134969118|  dylan0|Research and Deve...|             M|     M|       1|            61|              50|4F46DECA-EF01-41F...|6/30/14 0:00|\n",
      "|  811994146|  diane1|Research and Deve...|             S|     F|       1|            62|              51|31112635-663B-401...|6/30/14 0:00|\n",
      "|  658797903|   gigi0|Research and Deve...|             M|     F|       1|            63|              51|50B6CDC6-7570-47E...|6/30/14 0:00|\n",
      "|  879342154|michael6|Research and Deve...|             M|     M|       1|            16|              64|EAA43680-5571-40C...|6/30/14 0:00|\n",
      "+-----------+--------+--------------------+--------------+------+--------+--------------+----------------+--------------------+------------+\n",
      "only showing top 10 rows\n",
      "\n"
     ]
    }
   ],
   "source": [
    "from pyspark import SparkFiles\n",
    "# Load in employee.csv from S3 into a DataFrame\n",
    "url=\"https://<bucket name>.s3.amazonaws.com/employees.csv\"\n",
    "spark.sparkContext.addFile(url)\n",
    "\n",
    "df = spark.read.option('header', 'true').csv(SparkFiles.get(\"employees.csv\"), inferSchema=True, sep=',')\n",
    "df.show(10)"
   ]
  },
  {
   "cell_type": "markdown",
   "metadata": {
    "id": "kdtKPZ1w_V3e"
   },
   "source": [
    "## Drop duplicates and incomplete rows"
   ]
  },
  {
   "cell_type": "code",
   "execution_count": 10,
   "metadata": {
    "colab": {
     "base_uri": "https://localhost:8080/"
    },
    "id": "10qoqQv3_Y_w",
    "outputId": "e1bf86cd-0763-4f9e-9672-f746420d110f"
   },
   "outputs": [
    {
     "name": "stdout",
     "output_type": "stream",
     "text": [
      "292\n",
      "291\n",
      "289\n"
     ]
    }
   ],
   "source": [
    "print(df.count())\n",
    "df = df.dropna()\n",
    "print(df.count())\n",
    "df = df.dropDuplicates()\n",
    "print(df.count())"
   ]
  },
  {
   "cell_type": "markdown",
   "metadata": {
    "id": "GAgvBYkG_awE"
   },
   "source": [
    "## Examine the schema"
   ]
  },
  {
   "cell_type": "code",
   "execution_count": 11,
   "metadata": {
    "colab": {
     "base_uri": "https://localhost:8080/"
    },
    "id": "SXtPi-Hw_dCe",
    "outputId": "f23b584a-a8ab-4ad6-9a82-816bba3adfda"
   },
   "outputs": [
    {
     "name": "stdout",
     "output_type": "stream",
     "text": [
      "root\n",
      " |-- Employee ID: integer (nullable = true)\n",
      " |-- Email: string (nullable = true)\n",
      " |-- Position: string (nullable = true)\n",
      " |-- Marital Status: string (nullable = true)\n",
      " |-- Gender: string (nullable = true)\n",
      " |-- Salaried: integer (nullable = true)\n",
      " |-- Vacation Hours: integer (nullable = true)\n",
      " |-- Sick Leave Hours: integer (nullable = true)\n",
      " |-- Encrypted Password: string (nullable = true)\n",
      " |-- Modified: string (nullable = true)\n",
      "\n"
     ]
    }
   ],
   "source": [
    "df.printSchema()"
   ]
  },
  {
   "cell_type": "markdown",
   "metadata": {
    "id": "klopnaUE_eZV"
   },
   "source": [
    "## Rename columns"
   ]
  },
  {
   "cell_type": "code",
   "execution_count": 12,
   "metadata": {
    "colab": {
     "base_uri": "https://localhost:8080/"
    },
    "id": "9b0dvAat_f7L",
    "outputId": "fc0b889a-df58-4ca8-c474-56cdb573cb75"
   },
   "outputs": [
    {
     "name": "stdout",
     "output_type": "stream",
     "text": [
      "+-----------+---------+--------------------+--------------+------+--------+--------------+----------------+--------------------+------------+\n",
      "|employee_id|    email|            Position|marital_status|gender|salaried|Vacation Hours|Sick Leave Hours|            password|    Modified|\n",
      "+-----------+---------+--------------------+--------------+------+--------+--------------+----------------+--------------------+------------+\n",
      "|  999440576| brandon0|Production Techni...|             M|     M|       0|            22|              31|CA5D1935-44E2-4C4...|6/30/14 0:00|\n",
      "|  413787783|  mihail0|Production Techni...|             S|     M|       0|            64|              52|03A9BA14-0D5B-467...|6/30/14 0:00|\n",
      "|   25011600|samantha0|Production Techni...|             M|     F|       0|             7|              23|1629EDDD-D0AE-4CB...|6/30/14 0:00|\n",
      "|  974026903|  ovidiu0|Senior Tool Designer|             S|     M|       0|             7|              23|F68C7C19-FAC1-438...|6/30/14 0:00|\n",
      "|  153288994|  houman0|Production Techni...|             M|     M|       0|             3|              21|9CE8B2E8-9944-4BA...|6/30/14 0:00|\n",
      "+-----------+---------+--------------------+--------------+------+--------+--------------+----------------+--------------------+------------+\n",
      "only showing top 5 rows\n",
      "\n"
     ]
    }
   ],
   "source": [
    "df1 = df.withColumnRenamed(\"Employee ID\", \"employee_id\") \\\n",
    "        .withColumnRenamed(\"Email\", \"email\") \\\n",
    "        .withColumnRenamed(\"Marital Status\", \"marital_status\") \\\n",
    "        .withColumnRenamed(\"Gender\", \"gender\") \\\n",
    "        .withColumnRenamed(\"Salaried\", \"salaried\") \\\n",
    "        .withColumnRenamed(\"Encrypted Password\", \"password\")\n",
    "df1.show(5)"
   ]
  },
  {
   "cell_type": "markdown",
   "metadata": {
    "id": "AbG7CtSA_gfw"
   },
   "source": [
    "## Create a new DataFrame for employee info"
   ]
  },
  {
   "cell_type": "code",
   "execution_count": 13,
   "metadata": {
    "colab": {
     "base_uri": "https://localhost:8080/"
    },
    "id": "saJ1WiZb_ik6",
    "outputId": "ae96b5ea-df0a-43e0-f102-1553aa4fd0a2"
   },
   "outputs": [
    {
     "name": "stdout",
     "output_type": "stream",
     "text": [
      "+-----------+---------+--------------+------+--------+\n",
      "|employee_id|    email|marital_status|gender|salaried|\n",
      "+-----------+---------+--------------+------+--------+\n",
      "|  999440576| brandon0|             M|     M|       0|\n",
      "|  413787783|  mihail0|             S|     M|       0|\n",
      "|   25011600|samantha0|             M|     F|       0|\n",
      "|  974026903|  ovidiu0|             S|     M|       0|\n",
      "|  153288994|  houman0|             M|     M|       0|\n",
      "+-----------+---------+--------------+------+--------+\n",
      "only showing top 5 rows\n",
      "\n"
     ]
    }
   ],
   "source": [
    "employee_personal_info = df1.select([\"employee_id\", \"email\", \"marital_status\", \"gender\", \"salaried\"])\n",
    "employee_personal_info.show(5)"
   ]
  },
  {
   "cell_type": "markdown",
   "metadata": {
    "id": "0PDvBiVN_jGe"
   },
   "source": [
    "## Write DataFrame to RDS"
   ]
  },
  {
   "cell_type": "code",
   "execution_count": 14,
   "metadata": {
    "id": "fOIS3viE_leJ"
   },
   "outputs": [],
   "source": [
    "# Configuration for RDS instance\n",
    "mode=\"append\"\n",
    "jdbc_url=\"jdbc:postgresql://<connection string>:5432/<database-name>\"\n",
    "config = {\"user\":\"root\",\n",
    "          \"password\": \"<password>\",\n",
    "          \"driver\":\"org.postgresql.Driver\"}"
   ]
  },
  {
   "cell_type": "code",
   "execution_count": 15,
   "metadata": {
    "id": "K6_O84CK_nV5"
   },
   "outputs": [],
   "source": [
    "# Write DataFrame to table\n",
    "\n",
    "employee_personal_info.write.jdbc(url=jdbc_url, table='employee_personal_info', mode=mode, properties=config)"
   ]
  },
  {
   "cell_type": "markdown",
   "metadata": {
    "id": "_Or1RnPr_nzd"
   },
   "source": [
    "## Create a new DataFrame for employee passwords"
   ]
  },
  {
   "cell_type": "code",
   "execution_count": 16,
   "metadata": {
    "colab": {
     "base_uri": "https://localhost:8080/"
    },
    "id": "7mDI_Xg9_q8_",
    "outputId": "b12603af-2bd7-40a4-9419-3005a9f4e662"
   },
   "outputs": [
    {
     "name": "stdout",
     "output_type": "stream",
     "text": [
      "+-----------+--------------------+\n",
      "|employee_id|            password|\n",
      "+-----------+--------------------+\n",
      "|  999440576|CA5D1935-44E2-4C4...|\n",
      "|  413787783|03A9BA14-0D5B-467...|\n",
      "|   25011600|1629EDDD-D0AE-4CB...|\n",
      "|  974026903|F68C7C19-FAC1-438...|\n",
      "|  153288994|9CE8B2E8-9944-4BA...|\n",
      "+-----------+--------------------+\n",
      "only showing top 5 rows\n",
      "\n"
     ]
    }
   ],
   "source": [
    "employee_password = df1.select([\"employee_id\", \"password\"])\n",
    "employee_password.show(5)"
   ]
  },
  {
   "cell_type": "markdown",
   "metadata": {
    "id": "SCmoHROm_saU"
   },
   "source": [
    "## Write DataFrame to RDS"
   ]
  },
  {
   "cell_type": "code",
   "execution_count": 17,
   "metadata": {
    "id": "CNKz5FHg_uV9"
   },
   "outputs": [],
   "source": [
    "# Write DataFrame to table\n",
    "\n",
    "employee_password.write.jdbc(url=jdbc_url, table='employee_password', mode=mode, properties=config)"
   ]
  },
  {
   "cell_type": "code",
   "execution_count": null,
   "metadata": {
    "id": "Tvw--Ool_vju"
   },
   "outputs": [],
   "source": []
  }
 ],
 "metadata": {
  "colab": {
   "collapsed_sections": [],
   "name": "stu_etl_s3_rds.ipynb",
   "provenance": []
  },
  "kernelspec": {
   "display_name": "Python 3",
   "language": "python",
   "name": "python3"
  },
  "language_info": {
   "codemirror_mode": {
    "name": "ipython",
    "version": 3
   },
   "file_extension": ".py",
   "mimetype": "text/x-python",
   "name": "python",
   "nbconvert_exporter": "python",
   "pygments_lexer": "ipython3",
   "version": "3.8.3"
  },
  "latex_envs": {
   "LaTeX_envs_menu_present": true,
   "autoclose": false,
   "autocomplete": true,
   "bibliofile": "biblio.bib",
   "cite_by": "apalike",
   "current_citInitial": 1,
   "eqLabelWithNumbers": true,
   "eqNumInitial": 1,
   "hotkeys": {
    "equation": "Ctrl-E",
    "itemize": "Ctrl-I"
   },
   "labels_anchors": false,
   "latex_user_defs": false,
   "report_style_numbering": false,
   "user_envs_cfg": false
  }
 },
 "nbformat": 4,
 "nbformat_minor": 1
}
