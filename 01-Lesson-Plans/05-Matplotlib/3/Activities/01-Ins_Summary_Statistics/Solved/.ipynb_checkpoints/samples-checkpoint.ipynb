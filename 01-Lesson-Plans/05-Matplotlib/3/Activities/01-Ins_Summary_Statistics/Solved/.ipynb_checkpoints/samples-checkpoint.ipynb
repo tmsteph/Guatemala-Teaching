{
 "cells": [
  {
   "cell_type": "code",
   "execution_count": 1,
   "metadata": {},
   "outputs": [],
   "source": [
    "# Dependencies\n",
    "import pandas as pd\n",
    "import matplotlib.pyplot as plt\n",
    "import scipy.stats as sts\n",
    "import numpy as np"
   ]
  },
  {
   "cell_type": "code",
   "execution_count": 7,
   "metadata": {},
   "outputs": [
    {
     "data": {
      "text/html": [
       "<div>\n",
       "<style scoped>\n",
       "    .dataframe tbody tr th:only-of-type {\n",
       "        vertical-align: middle;\n",
       "    }\n",
       "\n",
       "    .dataframe tbody tr th {\n",
       "        vertical-align: top;\n",
       "    }\n",
       "\n",
       "    .dataframe thead th {\n",
       "        text-align: right;\n",
       "    }\n",
       "</style>\n",
       "<table border=\"1\" class=\"dataframe\">\n",
       "  <thead>\n",
       "    <tr style=\"text-align: right;\">\n",
       "      <th></th>\n",
       "      <th>STATION</th>\n",
       "      <th>DATE</th>\n",
       "      <th>REPORT_TYPE</th>\n",
       "      <th>HourlyDryBulbTemperature</th>\n",
       "    </tr>\n",
       "  </thead>\n",
       "  <tbody>\n",
       "    <tr>\n",
       "      <th>0</th>\n",
       "      <td>72295023174</td>\n",
       "      <td>2019-01-01T00:49:00</td>\n",
       "      <td>FM-16</td>\n",
       "      <td>52</td>\n",
       "    </tr>\n",
       "    <tr>\n",
       "      <th>1</th>\n",
       "      <td>72295023174</td>\n",
       "      <td>2019-01-01T00:53:00</td>\n",
       "      <td>FM-15</td>\n",
       "      <td>51</td>\n",
       "    </tr>\n",
       "    <tr>\n",
       "      <th>2</th>\n",
       "      <td>72295023174</td>\n",
       "      <td>2019-01-01T01:53:00</td>\n",
       "      <td>FM-15</td>\n",
       "      <td>52</td>\n",
       "    </tr>\n",
       "    <tr>\n",
       "      <th>3</th>\n",
       "      <td>72295023174</td>\n",
       "      <td>2019-01-01T02:53:00</td>\n",
       "      <td>FM-15</td>\n",
       "      <td>49</td>\n",
       "    </tr>\n",
       "    <tr>\n",
       "      <th>4</th>\n",
       "      <td>72295023174</td>\n",
       "      <td>2019-01-01T03:53:00</td>\n",
       "      <td>FM-15</td>\n",
       "      <td>43</td>\n",
       "    </tr>\n",
       "  </tbody>\n",
       "</table>\n",
       "</div>"
      ],
      "text/plain": [
       "       STATION                 DATE REPORT_TYPE  HourlyDryBulbTemperature\n",
       "0  72295023174  2019-01-01T00:49:00       FM-16                        52\n",
       "1  72295023174  2019-01-01T00:53:00       FM-15                        51\n",
       "2  72295023174  2019-01-01T01:53:00       FM-15                        52\n",
       "3  72295023174  2019-01-01T02:53:00       FM-15                        49\n",
       "4  72295023174  2019-01-01T03:53:00       FM-15                        43"
      ]
     },
     "execution_count": 7,
     "metadata": {},
     "output_type": "execute_result"
    }
   ],
   "source": [
    "# Read in the LAX temperature data\n",
    "temperature_df = pd.read_csv('../Resources/lax_temperature.csv')\n",
    "temperature_df.head()"
   ]
  },
  {
   "cell_type": "code",
   "execution_count": 8,
   "metadata": {},
   "outputs": [
    {
     "data": {
      "text/plain": [
       "0    52\n",
       "1    51\n",
       "2    52\n",
       "3    49\n",
       "4    43\n",
       "Name: HourlyDryBulbTemperature, dtype: int64"
      ]
     },
     "execution_count": 8,
     "metadata": {},
     "output_type": "execute_result"
    }
   ],
   "source": [
    "temperatures = temperature_df['HourlyDryBulbTemperature']\n",
    "temperatures.head()"
   ]
  },
  {
   "cell_type": "code",
   "execution_count": 9,
   "metadata": {},
   "outputs": [
    {
     "name": "stdout",
     "output_type": "stream",
     "text": [
      "The mean temperature at the LAX airport is 57.65514310002834\n",
      "The median temperature at the LAX airport is 57.0\n",
      "The mode temperature at the LAX airport is ModeResult(mode=array([57]), count=array([327]))\n"
     ]
    }
   ],
   "source": [
    "# Demonstrate calculating measures of central tendency\n",
    "mean_numpy = np.mean(temperatures)\n",
    "print(f\"The mean temperature at the LAX airport is {mean_numpy}\")\n",
    "\n",
    "median_numpy = np.median(temperatures)\n",
    "print(f\"The median temperature at the LAX airport is {median_numpy}\")\n",
    "\n",
    "mode_scipy = sts.mode(temperatures)\n",
    "print(f\"The mode temperature at the LAX airport is {mode_scipy}\")"
   ]
  },
  {
   "cell_type": "code",
   "execution_count": 12,
   "metadata": {},
   "outputs": [
    {
     "data": {
      "image/png": "[encoded data removed]",
      "text/plain": [
       "<Figure size 432x288 with 1 Axes>"
      ]
     },
     "metadata": {
      "needs_background": "light"
     },
     "output_type": "display_data"
    },
    {
     "name": "stdout",
     "output_type": "stream",
     "text": [
      "NormaltestResult(statistic=0.08272145212174478, pvalue=0.9594829570071967)\n"
     ]
    }
   ],
   "source": [
    "# Characterize the data set using matplotlib and stats.normaltest\n",
    "plt.hist(temperatures)  # histograms!\n",
    "plt.xlabel('Temperature (°F)')\n",
    "plt.ylabel('Counts')\n",
    "plt.show()\n",
    "print(sts.normaltest(temperatures.sample(50)))"
   ]
  },
  {
   "cell_type": "markdown",
   "metadata": {},
   "source": [
    "Note that the histogram looks a bit like a bell curve.\n",
    "\n",
    "Further, our normaltest() returns a p value of > 0.05, which is the cut-off for \"normal\" distributions.\n",
    "\n",
    "Last, notice that sts.normaltest() runs on a sample of the dataset."
   ]
  },
  {
   "cell_type": "code",
   "execution_count": 16,
   "metadata": {},
   "outputs": [
    {
     "name": "stdout",
     "output_type": "stream",
     "text": [
      "The population variance using the NumPy module is 32.33077618382964\n",
      "The population standard deviation using the NumPy module is 5.686015844493369\n"
     ]
    }
   ],
   "source": [
    "# Demonstrate calculating the variance and standard deviation using the different modules\n",
    "# ddof is degress of freedom; 0 indicates that variance should be calculated on the population\n",
    "var_numpy = np.var(temperatures,ddof = 0)\n",
    "print(f\"The population variance using the NumPy module is {var_numpy}\")\n",
    "\n",
    "sd_numpy = np.std(temperatures,ddof = 0)\n",
    "print(f\"The population standard deviation using the NumPy module is {sd_numpy}\")"
   ]
  },
  {
   "cell_type": "code",
   "execution_count": 17,
   "metadata": {},
   "outputs": [
    {
     "name": "stdout",
     "output_type": "stream",
     "text": [
      "Roughly 68% of the data is between 51.969 and 63.341\n",
      "Roughly 95% of the data is between 46.283 and 69.027\n",
      "Roughly 99.7% of the data is between 40.597 and 74.713\n"
     ]
    }
   ],
   "source": [
    "# Calculate the 68-95-99.7 rule using the standard deviation\n",
    "print(f\"Roughly 68% of the data is between {round(mean_numpy-sd_numpy,3)} and {round(mean_numpy+sd_numpy,3)}\")\n",
    "print(f\"Roughly 95% of the data is between {round(mean_numpy-2*sd_numpy,3)} and {round(mean_numpy+2*sd_numpy,3)}\")\n",
    "print(f\"Roughly 99.7% of the data is between {round(mean_numpy-3*sd_numpy,3)} and {round(mean_numpy+3*sd_numpy,3)}\")"
   ]
  },
  {
   "cell_type": "code",
   "execution_count": 15,
   "metadata": {},
   "outputs": [
    {
     "name": "stdout",
     "output_type": "stream",
     "text": [
      "The z-scores using the SciPy module are [-0.99457041 -1.17044048 -0.99457041 ...  0.06065001  0.06065001\n",
      "  0.06065001]\n"
     ]
    }
   ],
   "source": [
    "# Demonstrate calculating the z-scores using SciPy\n",
    "z_scipy = sts.zscore(temperatures)\n",
    "print(f\"The z-scores using the SciPy module are {z_scipy}\")"
   ]
  },
  {
   "cell_type": "code",
   "execution_count": null,
   "metadata": {},
   "outputs": [],
   "source": []
  }
 ],
 "metadata": {
  "kernelspec": {
   "display_name": "Python 3",
   "language": "python",
   "name": "python3"
  },
  "language_info": {
   "codemirror_mode": {
    "name": "ipython",
    "version": 3
   },
   "file_extension": ".py",
   "mimetype": "text/x-python",
   "name": "python",
   "nbconvert_exporter": "python",
   "pygments_lexer": "ipython3",
   "version": "3.6.10"
  }
 },
 "nbformat": 4,
 "nbformat_minor": 2
}
