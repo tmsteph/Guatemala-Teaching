{
 "cells": [
  {
   "cell_type": "code",
   "execution_count": 1,
   "metadata": {},
   "outputs": [],
   "source": [
    "# Dependencies\n",
    "import os\n",
    "from bs4 import BeautifulSoup as bs"
   ]
  },
  {
   "cell_type": "code",
   "execution_count": 2,
   "metadata": {},
   "outputs": [],
   "source": [
    "# Read HTML from file\n",
    "filepath = os.path.join(\"..\", \"Resources\", \"template.html\")\n",
    "with open(filepath) as file:\n",
    "    html = file.read()"
   ]
  },
  {
   "cell_type": "code",
   "execution_count": 4,
   "metadata": {},
   "outputs": [],
   "source": [
    "# Create a Beautiful Soup object\n",
    "soup = bs(html, 'html.parser')"
   ]
  },
  {
   "cell_type": "code",
   "execution_count": 5,
   "metadata": {},
   "outputs": [
    {
     "data": {
      "text/plain": [
       "'Top Ten Stories From 1996'"
      ]
     },
     "execution_count": 5,
     "metadata": {},
     "output_type": "execute_result"
    }
   ],
   "source": [
    "# Extract title text\n",
    "soup.title.text"
   ]
  },
  {
   "cell_type": "code",
   "execution_count": 7,
   "metadata": {},
   "outputs": [
    {
     "data": {
      "text/plain": [
       "[<p><br/>\n",
       " <table border=\"0\" cellpadding=\"0\" cellspacing=\"0\">\n",
       " <tr>\n",
       " <td><img align=\"TOP\" height=\"60\" src=\"logos.gif\" width=\"112\"/></td>\n",
       " <td><img align=\"TOP\" height=\"60\" src=\"banner.gif\" width=\"360\"/></td>\n",
       " </tr>\n",
       " </table>\n",
       " </p>,\n",
       " <p align=\"RIGHT\"><b><tt>What were the biggest stories of the year?</tt></b><br/>\n",
       " <br/>\n",
       " <font size=\"2\">It's a question journalists like to ask themselves at the end of every\n",
       "             year. Now you can join in the process. Here are our selections for the top ten news\n",
       "             stories of 1996.<br/>\n",
       " <br/>\n",
       "             Disagree with our choices? Then tell us what stories you think were most compelling\n",
       "             in the poll below.</font>\n",
       " </p>,\n",
       " <p align=\"CENTER\"><img align=\"MIDDLE\" height=\"24\" src=\"generic/topten.gif\" vspace=\"5\" width=\"263\"/>\n",
       " </p>,\n",
       " <p><b><tt>What makes a </tt></b><font size=\"5\"><tt><b>big</b></tt></font><tt><b>\n",
       "             story </b></tt><font size=\"5\"><tt><b>BIG?</b></tt></font>\n",
       " <blockquote>\n",
       " <p>It depends on your criteria, of course, and your perspective. That's why we offered\n",
       "             a poll to find out what you think.</p>\n",
       " <p>For our list, we polled producers throughout the CNN/Pathfinder family of networks\n",
       "             and publications, and weighed such criteria as a story's long-term implications,\n",
       "             geopolitical significance, user interest, amount of coverage, and old-fashioned newsworthiness.\n",
       "             All these things help make a \"big\" story big.</p>\n",
       " <p>By no means do we think our lists are the final word. Even our polls among CNN\n",
       "             producers turned up a wide variety of responses. The process is meant to encourage\n",
       "             you to reconsider the stories that dominated the media during the past year and determine\n",
       "             for yourself which were mere sensations and which were truly significant.\n",
       "             </p></blockquote>\n",
       " </p>,\n",
       " <p>It depends on your criteria, of course, and your perspective. That's why we offered\n",
       "             a poll to find out what you think.</p>,\n",
       " <p>For our list, we polled producers throughout the CNN/Pathfinder family of networks\n",
       "             and publications, and weighed such criteria as a story's long-term implications,\n",
       "             geopolitical significance, user interest, amount of coverage, and old-fashioned newsworthiness.\n",
       "             All these things help make a \"big\" story big.</p>,\n",
       " <p>By no means do we think our lists are the final word. Even our polls among CNN\n",
       "             producers turned up a wide variety of responses. The process is meant to encourage\n",
       "             you to reconsider the stories that dominated the media during the past year and determine\n",
       "             for yourself which were mere sensations and which were truly significant.\n",
       "             </p>,\n",
       " <p>© 1996 Cable News Network, Inc.<br/>\n",
       " All Rights Reserved.</p>]"
      ]
     },
     "execution_count": 7,
     "metadata": {},
     "output_type": "execute_result"
    }
   ],
   "source": [
    "# Print all paragraph texts\n",
    "soup.body.find_all('p')"
   ]
  },
  {
   "cell_type": "code",
   "execution_count": 10,
   "metadata": {},
   "outputs": [
    {
     "data": {
      "text/plain": [
       "'\\n\\n\\n\\n\\n\\n\\n\\n\\n\\n\\n\\n\\n\\n\\n\\nWhat were the biggest stories of the year?\\n\\nIt\\'s a question journalists like to ask themselves at the end of every\\n            year. Now you can join in the process. Here are our selections for the top ten news\\n            stories of 1996.\\n\\n            Disagree with our choices? Then tell us what stories you think were most compelling\\n            in the poll below.\\n\\n\\n\\n\\n\\n\\n\\n\\n\\n\\nIsrael elects Netanyahu\\n\\n\\n\\nCrash of TWA Flight 800\\n\\n\\n\\nRussia elects Yeltsin\\n\\n\\n\\nU.S. elects Clinton\\n\\n\\n\\nHutu-Tutsi conflict in central Africa\\n\\n\\n\\nPeace, elections in Bosnia\\n\\n\\n\\nU.S. base bombed in Saudi Arabia\\n\\n\\n\\nCentennial Olympic Games\\n\\n\\n\\nAdvances against AIDS\\n\\n\\n\\nUnabomb suspect Ted Kaczynski arrested\\n\\n\\n\\n\\n\\n\\n\\n\\n\\n\\n\\n\\nThe top 10 stories according to our users\\n\\n\\n\\n\\n\\n\\n    T I M E: The Best of 1996\\n\\n\\n    T I M E: Man of the Year\\n\\n\\n\\n\\n\\n\\n\\n\\n\\n\\nWhat makes a big\\n            story BIG?\\n\\nIt depends on your criteria, of course, and your perspective. That\\'s why we offered\\n            a poll to find out what you think.\\nFor our list, we polled producers throughout the CNN/Pathfinder family of networks\\n            and publications, and weighed such criteria as a story\\'s long-term implications,\\n            geopolitical significance, user interest, amount of coverage, and old-fashioned newsworthiness.\\n            All these things help make a \"big\" story big.\\nBy no means do we think our lists are the final word. Even our polls among CNN\\n            producers turned up a wide variety of responses. The process is meant to encourage\\n            you to reconsider the stories that dominated the media during the past year and determine\\n            for yourself which were mere sensations and which were truly significant.\\n            \\n\\n\\n\\n\\n\\n\\n\\n\\n\\n\\n\\n\\nTell us what you think\\nYou said it...\\n\\n\\n\\n\\n\\n\\nC R E D I T S\\n\\n\\n\\n\\nBack to top\\n\\n© 1996 Cable News Network, Inc.\\nAll Rights Reserved.\\nTerms under which this\\n     service is provided to you.\\n\\n\\n\\n'"
      ]
     },
     "execution_count": 10,
     "metadata": {},
     "output_type": "execute_result"
    }
   ],
   "source": [
    "# Print all ten headlines\n",
    "soup.body.find_all('h1')\n"
   ]
  },
  {
   "cell_type": "code",
   "execution_count": null,
   "metadata": {},
   "outputs": [],
   "source": [
    "# Print only the headlines\n"
   ]
  }
 ],
 "metadata": {
  "kernelspec": {
   "display_name": "Python 3",
   "language": "python",
   "name": "python3"
  },
  "language_info": {
   "codemirror_mode": {
    "name": "ipython",
    "version": 3
   },
   "file_extension": ".py",
   "mimetype": "text/x-python",
   "name": "python",
   "nbconvert_exporter": "python",
   "pygments_lexer": "ipython3",
   "version": "3.6.10"
  },
  "varInspector": {
   "cols": {
    "lenName": 16,
    "lenType": 16,
    "lenVar": 40
   },
   "kernels_config": {
    "python": {
     "delete_cmd_postfix": "",
     "delete_cmd_prefix": "del ",
     "library": "var_list.py",
     "varRefreshCmd": "print(var_dic_list())"
    },
    "r": {
     "delete_cmd_postfix": ") ",
     "delete_cmd_prefix": "rm(",
     "library": "var_list.r",
     "varRefreshCmd": "cat(var_dic_list()) "
    }
   },
   "types_to_exclude": [
    "module",
    "function",
    "builtin_function_or_method",
    "instance",
    "_Feature"
   ],
   "window_display": false
  }
 },
 "nbformat": 4,
 "nbformat_minor": 2
}
