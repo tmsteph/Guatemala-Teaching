{
 "cells": [
  {
   "cell_type": "markdown",
   "metadata": {
    "slideshow": {
     "slide_type": "slide"
    }
   },
   "source": [
    "# Doctor Decoder\n",
    "\n",
    "Use Pandas scraping to help decode the medical abbreviations that a doctor might use."
   ]
  },
  {
   "cell_type": "code",
   "execution_count": 1,
   "metadata": {
    "slideshow": {
     "slide_type": "slide"
    }
   },
   "outputs": [],
   "source": [
    "import pandas as pd"
   ]
  },
  {
   "cell_type": "markdown",
   "metadata": {},
   "source": [
    "Use Pandas to scrape the following site and decode the medical abbreviations in the list"
   ]
  },
  {
   "cell_type": "code",
   "execution_count": 2,
   "metadata": {
    "slideshow": {
     "slide_type": "fragment"
    }
   },
   "outputs": [],
   "source": [
    "url = 'https://en.wikipedia.org/wiki/List_of_medical_abbreviations'\n",
    "med_abbreviations = ['BMR', 'BP', 'ECG', 'MRI', 'qid', 'WBC']"
   ]
  },
  {
   "cell_type": "code",
   "execution_count": 3,
   "metadata": {
    "nbgrader": {
     "grade": false,
     "grade_id": "cell-a71ede958957992c",
     "locked": false,
     "schema_version": 1,
     "solution": true
    },
    "slideshow": {
     "slide_type": "fragment"
    }
   },
   "outputs": [
    {
     "data": {
      "text/plain": [
       "[    0                                                  1\n",
       " 0 NaN  This article includes a list of references, re...,\n",
       "   .mw-parser-output .navbar{display:inline;font-size:88%;font-weight:normal}.mw-parser-output .navbar-collapse{float:left;text-align:left}.mw-parser-output .navbar-boxtext{word-spacing:0}.mw-parser-output .navbar ul{display:inline-block;white-space:nowrap;line-height:inherit}.mw-parser-output .navbar-brackets::before{margin-right:-0.125em;content:\"[ \"}.mw-parser-output .navbar-brackets::after{margin-left:-0.125em;content:\" ]\"}.mw-parser-output .navbar li{word-spacing:-0.125em}.mw-parser-output .navbar-mini abbr{font-variant:small-caps;border-bottom:none;text-decoration:none;cursor:inherit}.mw-parser-output .navbar-ct-full{font-size:114%;margin:0 7em}.mw-parser-output .navbar-ct-mini{font-size:114%;margin:0 4em}.mw-parser-output .infobox .navbar{font-size:100%}.mw-parser-output .navbox .navbar{display:block;font-size:100%}.mw-parser-output .navbox-title .navbar{float:left;text-align:left;margin-right:0.5em}vteMedical abbreviations  \\\n",
       " 0  0–9 A B C D E F G H I J K L M N O P Q R S T U ...                                                                                                                                                                                                                                                                                                                                                                                                                                                                                                                                                                                                                                                                                                                                                                                                                                                                                                                              \n",
       " 1  Latin abbreviations Prescription abbreviations...                                                                                                                                                                                                                                                                                                                                                                                                                                                                                                                                                                                                                                                                                                                                                                                                                                                                                                                              \n",
       " \n",
       "   .mw-parser-output .navbar{display:inline;font-size:88%;font-weight:normal}.mw-parser-output .navbar-collapse{float:left;text-align:left}.mw-parser-output .navbar-boxtext{word-spacing:0}.mw-parser-output .navbar ul{display:inline-block;white-space:nowrap;line-height:inherit}.mw-parser-output .navbar-brackets::before{margin-right:-0.125em;content:\"[ \"}.mw-parser-output .navbar-brackets::after{margin-left:-0.125em;content:\" ]\"}.mw-parser-output .navbar li{word-spacing:-0.125em}.mw-parser-output .navbar-mini abbr{font-variant:small-caps;border-bottom:none;text-decoration:none;cursor:inherit}.mw-parser-output .navbar-ct-full{font-size:114%;margin:0 7em}.mw-parser-output .navbar-ct-mini{font-size:114%;margin:0 4em}.mw-parser-output .infobox .navbar{font-size:100%}.mw-parser-output .navbox .navbar{display:block;font-size:100%}.mw-parser-output .navbox-title .navbar{float:left;text-align:left;margin-right:0.5em}vteMedical abbreviations.1  \n",
       " 0  0–9 A B C D E F G H I J K L M N O P Q R S T U ...                                                                                                                                                                                                                                                                                                                                                                                                                                                                                                                                                                                                                                                                                                                                                                                                                                                                                                                               \n",
       " 1  Latin abbreviations Prescription abbreviations...                                                                                                                                                                                                                                                                                                                                                                                                                                                                                                                                                                                                                                                                                                                                                                                                                                                                                                                               ,\n",
       "           0                                1  \\\n",
       " 0    EG abb                     EG full name   \n",
       " 1       ABG               arterial blood gas   \n",
       " 2       ACE    angiotensin-converting enzyme   \n",
       " 3      ACTH      adrenocorticotropic hormone   \n",
       " 4     AFVSS  Afebrile, vital signs stable[5]   \n",
       " ..      ...                              ...   \n",
       " 184      μL      microliter(s)/microlitre(s)   \n",
       " 185      μm      micrometer(s)/micrometre(s)   \n",
       " 186    μmol                     micromole(s)   \n",
       " 187    μOsm                  micro-osmole(s)   \n",
       " 188      mμ                   millimicron(s)   \n",
       " \n",
       "                                              2  \n",
       " 0       Other(ver change, need to know...etc.)  \n",
       " 1                                          NaN  \n",
       " 2                                          NaN  \n",
       " 3                                          NaN  \n",
       " 4                                          NaN  \n",
       " ..                                         ...  \n",
       " 184                                        NaN  \n",
       " 185                Also referred to as microns  \n",
       " 186                                        NaN  \n",
       " 187                                        NaN  \n",
       " 188  Also referred to as nanometers/nanometres  \n",
       " \n",
       " [189 rows x 3 columns],\n",
       "                             vteMedical abbreviations  \\\n",
       " 0  0–9 A B C D E F G H I J K L M N O P Q R S T U ...   \n",
       " 1  Latin abbreviations Prescription abbreviations...   \n",
       " \n",
       "                           vteMedical abbreviations.1  \n",
       " 0  0–9 A B C D E F G H I J K L M N O P Q R S T U ...  \n",
       " 1  Latin abbreviations Prescription abbreviations...  ,\n",
       "   vteBasic medical terms used to describe disease conditions  \\\n",
       " 0  Signs and symptomsSymptomSyndrome Medical diag...           \n",
       " 1                                                NaN           \n",
       " \n",
       "   vteBasic medical terms used to describe disease conditions.1  \\\n",
       " 0  Signs and symptomsSymptomSyndrome Medical diag...             \n",
       " 1                  Signs and symptomsSymptomSyndrome             \n",
       " \n",
       "                                          Unnamed: 2  \\\n",
       " 0                                               NaN   \n",
       " 1  Medical diagnosisDifferential diagnosisPrognosis   \n",
       " \n",
       "                    Unnamed: 3                                       Unnamed: 4  \n",
       " 0                         NaN                                              NaN  \n",
       " 1  AcuteChronicCure/Remission  DiseaseEponymous diseaseAcronym or abbreviation  ,\n",
       "     0                                  1  \\\n",
       " 0 NaN  Signs and symptomsSymptomSyndrome   \n",
       " \n",
       "                                                   2  \\\n",
       " 0  Medical diagnosisDifferential diagnosisPrognosis   \n",
       " \n",
       "                             3                                                4  \n",
       " 0  AcuteChronicCure/Remission  DiseaseEponymous diseaseAcronym or abbreviation  ]"
      ]
     },
     "execution_count": 3,
     "metadata": {},
     "output_type": "execute_result"
    }
   ],
   "source": [
    "# Use Panda's `read_html` to parse the url\n",
    "### BEGIN SOLUTION\n",
    "tables = pd.read_html(url)\n",
    "tables\n",
    "### END SOLUTION"
   ]
  },
  {
   "cell_type": "code",
   "execution_count": 4,
   "metadata": {
    "nbgrader": {
     "grade": false,
     "grade_id": "cell-316da8cb3354a1e2",
     "locked": false,
     "schema_version": 1,
     "solution": true
    },
    "slideshow": {
     "slide_type": "fragment"
    }
   },
   "outputs": [
    {
     "data": {
      "text/html": [
       "<div>\n",
       "<style scoped>\n",
       "    .dataframe tbody tr th:only-of-type {\n",
       "        vertical-align: middle;\n",
       "    }\n",
       "\n",
       "    .dataframe tbody tr th {\n",
       "        vertical-align: top;\n",
       "    }\n",
       "\n",
       "    .dataframe thead th {\n",
       "        text-align: right;\n",
       "    }\n",
       "</style>\n",
       "<table border=\"1\" class=\"dataframe\">\n",
       "  <thead>\n",
       "    <tr style=\"text-align: right;\">\n",
       "      <th></th>\n",
       "      <th>abb</th>\n",
       "      <th>full_name</th>\n",
       "      <th>other</th>\n",
       "    </tr>\n",
       "  </thead>\n",
       "  <tbody>\n",
       "    <tr>\n",
       "      <th>0</th>\n",
       "      <td>EG abb</td>\n",
       "      <td>EG full name</td>\n",
       "      <td>Other(ver change, need to know...etc.)</td>\n",
       "    </tr>\n",
       "    <tr>\n",
       "      <th>1</th>\n",
       "      <td>ABG</td>\n",
       "      <td>arterial blood gas</td>\n",
       "      <td>NaN</td>\n",
       "    </tr>\n",
       "    <tr>\n",
       "      <th>2</th>\n",
       "      <td>ACE</td>\n",
       "      <td>angiotensin-converting enzyme</td>\n",
       "      <td>NaN</td>\n",
       "    </tr>\n",
       "    <tr>\n",
       "      <th>3</th>\n",
       "      <td>ACTH</td>\n",
       "      <td>adrenocorticotropic hormone</td>\n",
       "      <td>NaN</td>\n",
       "    </tr>\n",
       "    <tr>\n",
       "      <th>4</th>\n",
       "      <td>AFVSS</td>\n",
       "      <td>Afebrile, vital signs stable[5]</td>\n",
       "      <td>NaN</td>\n",
       "    </tr>\n",
       "  </tbody>\n",
       "</table>\n",
       "</div>"
      ],
      "text/plain": [
       "      abb                        full_name  \\\n",
       "0  EG abb                     EG full name   \n",
       "1     ABG               arterial blood gas   \n",
       "2     ACE    angiotensin-converting enzyme   \n",
       "3    ACTH      adrenocorticotropic hormone   \n",
       "4   AFVSS  Afebrile, vital signs stable[5]   \n",
       "\n",
       "                                    other  \n",
       "0  Other(ver change, need to know...etc.)  \n",
       "1                                     NaN  \n",
       "2                                     NaN  \n",
       "3                                     NaN  \n",
       "4                                     NaN  "
      ]
     },
     "execution_count": 4,
     "metadata": {},
     "output_type": "execute_result"
    }
   ],
   "source": [
    "# Find the medical abbreviations DataFrame in the list of DataFrames as assign it to `df`\n",
    "# Assign the columns `['abb', 'full_name', 'other']`\n",
    "### BEGIN SOLUTION\n",
    "df = tables[2]\n",
    "df.columns = ['abb', 'full_name', 'other']\n",
    "df.head()\n",
    "### END SOLUTION"
   ]
  },
  {
   "cell_type": "markdown",
   "metadata": {
    "nbgrader": {
     "grade": false,
     "grade_id": "cell-20d93171b74375bb",
     "locked": true,
     "schema_version": 1,
     "solution": false
    },
    "slideshow": {
     "slide_type": "subslide"
    }
   },
   "source": [
    "Cleanup of extra row"
   ]
  },
  {
   "cell_type": "code",
   "execution_count": 5,
   "metadata": {
    "nbgrader": {
     "grade": false,
     "grade_id": "cell-cde33910996decbd",
     "locked": false,
     "schema_version": 1,
     "solution": true
    }
   },
   "outputs": [],
   "source": [
    "# drop the `other` column\n",
    "### BEGIN SOLUTION\n",
    "del df['other']\n",
    "### END SOLUTION"
   ]
  },
  {
   "cell_type": "code",
   "execution_count": 6,
   "metadata": {
    "nbgrader": {
     "grade": false,
     "grade_id": "cell-1df09a2e03a3b973",
     "locked": false,
     "schema_version": 1,
     "solution": true
    },
    "slideshow": {
     "slide_type": "fragment"
    }
   },
   "outputs": [
    {
     "data": {
      "text/html": [
       "<div>\n",
       "<style scoped>\n",
       "    .dataframe tbody tr th:only-of-type {\n",
       "        vertical-align: middle;\n",
       "    }\n",
       "\n",
       "    .dataframe tbody tr th {\n",
       "        vertical-align: top;\n",
       "    }\n",
       "\n",
       "    .dataframe thead th {\n",
       "        text-align: right;\n",
       "    }\n",
       "</style>\n",
       "<table border=\"1\" class=\"dataframe\">\n",
       "  <thead>\n",
       "    <tr style=\"text-align: right;\">\n",
       "      <th></th>\n",
       "      <th>full_name</th>\n",
       "    </tr>\n",
       "    <tr>\n",
       "      <th>abb</th>\n",
       "      <th></th>\n",
       "    </tr>\n",
       "  </thead>\n",
       "  <tbody>\n",
       "    <tr>\n",
       "      <th>ABG</th>\n",
       "      <td>arterial blood gas</td>\n",
       "    </tr>\n",
       "    <tr>\n",
       "      <th>ACE</th>\n",
       "      <td>angiotensin-converting enzyme</td>\n",
       "    </tr>\n",
       "    <tr>\n",
       "      <th>ACTH</th>\n",
       "      <td>adrenocorticotropic hormone</td>\n",
       "    </tr>\n",
       "    <tr>\n",
       "      <th>AFVSS</th>\n",
       "      <td>Afebrile, vital signs stable[5]</td>\n",
       "    </tr>\n",
       "    <tr>\n",
       "      <th>ADH</th>\n",
       "      <td>antidiuretic hormone</td>\n",
       "    </tr>\n",
       "  </tbody>\n",
       "</table>\n",
       "</div>"
      ],
      "text/plain": [
       "                             full_name\n",
       "abb                                   \n",
       "ABG                 arterial blood gas\n",
       "ACE      angiotensin-converting enzyme\n",
       "ACTH       adrenocorticotropic hormone\n",
       "AFVSS  Afebrile, vital signs stable[5]\n",
       "ADH               antidiuretic hormone"
      ]
     },
     "execution_count": 6,
     "metadata": {},
     "output_type": "execute_result"
    }
   ],
   "source": [
    "# Drop the first row and set the index to the `abb` column\n",
    "### BEGIN SOLUTION\n",
    "df = df.iloc[1:]\n",
    "df.set_index('abb', inplace=True)\n",
    "df.head()\n",
    "### END SOLUTION"
   ]
  },
  {
   "cell_type": "code",
   "execution_count": 7,
   "metadata": {
    "nbgrader": {
     "grade": false,
     "grade_id": "cell-3e6a547da7c5f934",
     "locked": false,
     "schema_version": 1,
     "solution": true
    }
   },
   "outputs": [
    {
     "name": "stdout",
     "output_type": "stream",
     "text": [
      "BMR basal metabolic rate\n",
      "BP blood pressure\n",
      "ECG electrocardiogram\n",
      "MRI magnetic resonance imaging\n",
      "qid 4 times a day\n",
      "WBC white blood cell\n"
     ]
    }
   ],
   "source": [
    "# Loop through the list of medical abbreviations and print the abbreviation\n",
    "# along with the full description.\n",
    "# Use the DataFrame to perform the lookup.\n",
    "### BEGIN SOLUTION\n",
    "for abb in med_abbreviations:\n",
    "    print(abb, df.loc[abb].full_name)\n",
    "### END SOLUTION"
   ]
  },
  {
   "cell_type": "code",
   "execution_count": null,
   "metadata": {},
   "outputs": [],
   "source": []
  }
 ],
 "metadata": {
  "celltoolbar": "Create Assignment",
  "kernelspec": {
   "display_name": "Python 3",
   "language": "python",
   "name": "python3"
  },
  "language_info": {
   "codemirror_mode": {
    "name": "ipython",
    "version": 3
   },
   "file_extension": ".py",
   "mimetype": "text/x-python",
   "name": "python",
   "nbconvert_exporter": "python",
   "pygments_lexer": "ipython3",
   "version": "3.6.10"
  },
  "varInspector": {
   "cols": {
    "lenName": 16,
    "lenType": 16,
    "lenVar": 40
   },
   "kernels_config": {
    "python": {
     "delete_cmd_postfix": "",
     "delete_cmd_prefix": "del ",
     "library": "var_list.py",
     "varRefreshCmd": "print(var_dic_list())"
    },
    "r": {
     "delete_cmd_postfix": ") ",
     "delete_cmd_prefix": "rm(",
     "library": "var_list.r",
     "varRefreshCmd": "cat(var_dic_list()) "
    }
   },
   "types_to_exclude": [
    "module",
    "function",
    "builtin_function_or_method",
    "instance",
    "_Feature"
   ],
   "window_display": false
  }
 },
 "nbformat": 4,
 "nbformat_minor": 2
}
