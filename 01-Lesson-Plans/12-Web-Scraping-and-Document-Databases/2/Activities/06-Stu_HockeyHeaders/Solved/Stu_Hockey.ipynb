{
 "cells": [
  {
   "cell_type": "code",
   "execution_count": 1,
   "metadata": {},
   "outputs": [],
   "source": [
    "# Dependencies\n",
    "from bs4 import BeautifulSoup\n",
    "import requests\n",
    "import pymongo"
   ]
  },
  {
   "cell_type": "code",
   "execution_count": 2,
   "metadata": {},
   "outputs": [],
   "source": [
    "# Initialize PyMongo to work with MongoDBs\n",
    "conn = 'mongodb://localhost:27017'\n",
    "client = pymongo.MongoClient(conn)"
   ]
  },
  {
   "cell_type": "code",
   "execution_count": 3,
   "metadata": {},
   "outputs": [],
   "source": [
    "# Define database and collection\n",
    "db = client.nhl_db\n",
    "collection = db.articles"
   ]
  },
  {
   "cell_type": "code",
   "execution_count": 4,
   "metadata": {},
   "outputs": [],
   "source": [
    "# URL of page to be scraped\n",
    "url = 'https://www.nhl.com/news'\n",
    "\n",
    "# Retrieve page with the requests module\n",
    "response = requests.get(url)\n",
    "# Create BeautifulSoup object; parse with 'html.parser'\n",
    "soup = BeautifulSoup(response.text, 'html.parser')"
   ]
  },
  {
   "cell_type": "code",
   "execution_count": 5,
   "metadata": {},
   "outputs": [
    {
     "name": "stdout",
     "output_type": "stream",
     "text": [
      "-----------------\n",
      "Canucks defeat Maple Leafs in OT in return from COVID-19 pause\n",
      "Horvat scores second goal to win it at 1:19 in first game since March 24\n",
      "2021-04-18\n",
      "-----------------\n",
      "Leddy, Islanders defeat Flyers in OT\n",
      "Scores at 2:23; Sorokin has 30-save shutout for New York; Elliott makes 27 for Philadelphia\n",
      "2021-04-18\n",
      "-----------------\n",
      "Stone extends multipoint streak to four, Golden Knights defeat Ducks\n",
      "Pacioretty, Roy each has goal, assist for Vegas, which sweeps Anaheim with sixth straight win\n",
      "2021-04-18\n",
      "-----------------\n",
      "Marchand scores four points, Bruins top Capitals for fourth win in row\n",
      "Has two goals, two assists to reach 700 NHL points; Ovechkin remains one behind Dionne\n",
      "2021-04-18\n",
      "-----------------\n",
      "Zibanejad, Rangers recover, defeat Devils for four-game sweep\n",
      "Breaks tie late on power play after New York loses three-goal lead\n",
      "2021-04-18\n",
      "-----------------\n",
      "Reinhart scores twice, Sabres end Penguins point streak at five\n",
      "Tokarski makes 34 saves for Buffalo, which is 3-1-1 in its past five games\n",
      "2021-04-18\n",
      "-----------------\n",
      "Marleau's debut remembered on cusp of breaking NHL games played record\n",
      "Granato, Hrudey, others look back with Sharks forward set to play No. 1,768, pass Howe\n",
      "2021-04-18\n",
      "-----------------\n",
      "NHL Buzz: Chara misses first game for Capitals\n",
      "Halak could return to practice for Bruins on Monday; Roy may be back Tuesday for Kings\n",
      "2021-04-18\n",
      "-----------------\n",
      "Werenski out for season for Blue Jackets with sports hernia\n",
      "Defenseman to need 6-8 weeks to recover from surgery\n",
      "2021-04-18\n",
      "-----------------\n",
      "Fantasy hockey top 10 waiver wire pickups\n",
      "Trade deadline acquisitions Bennett, Bjork producing for new teams; Caufield worth monitoring for Canadiens\n",
      "2021-04-18\n",
      "-----------------\n",
      "Sabres miss playoffs again, Eichel injury, penalty kill among culprits\n",
      "Ullmark missing time, lengthy losing skid led to record-tying 10th straight season without berth\n",
      "2021-04-18\n",
      "-----------------\n",
      "Bergeron scores Bruins' 21,000th NHL goal in win against Capitals\n",
      "Boston became second organization to achieve milestone\n",
      "2021-04-18\n",
      "-----------------\n",
      "Blackwood, Dell sport custom masks designed by health care workers\n",
      "Devils goalies don special helmets for warmups vs. Rangers, will autograph, auction them off\n",
      "2021-04-18\n",
      "-----------------\n",
      "Color of Hockey: Fraser thriving in diversity position with Maple Leafs\n",
      "'Impactful role' proving good fit for former NHL defenseman\n",
      "2021-04-19\n",
      "-----------------\n",
      "Fantasy top 25 line rankings for 2020-21\n",
      "NHL.com lists best units in terms of past chemistry, rest-of-season potential\n",
      "2021-04-18\n",
      "-----------------\n",
      "Coyotes add Leighton Accardo's number to Ring of Honor\n",
      "Inspiring nine-year-old who died of cancer Nov. 24 left lasting legacy in Arizona\n",
      "2021-04-17\n",
      "-----------------\n",
      "Marleau ties record for most games played in NHL history set by Howe\n",
      "Sharks forward skates in No. 1,767; can set mark Monday\n",
      "2021-04-18\n",
      "-----------------\n",
      "Avalanche have three games postponed due to COVID-19 protocol\n",
      "Targeting April 21 for return; Donskoi third player placed on list after Grubauer, Byram\n",
      "2021-04-18\n",
      "-----------------\n",
      "Stamkos out until May for Lightning with lower-body injury\n",
      "Tampa Bay hopes forward 'in tip-top shape' for playoffs\n",
      "2021-04-17\n",
      "-----------------\n",
      "NHL DFS player picks, projections, strategy\n",
      "Hintz looks to stay hot, worth stacking with linemates Robertson and Pavelski; Monday daily fantasy targets\n",
      "2021-04-18\n",
      "-----------------\n",
      "Sabres, Penguins join forces for Pride game\n",
      "Teams sport unique warmup jerseys, auction off other apparel for LGBTQ+ rights\n",
      "2021-04-17\n",
      "-----------------\n",
      "NHL announces updates to 2020-21 regular-season schedule\n",
      "Extended with North Division games through May 19\n",
      "2021-04-16\n",
      "-----------------\n",
      "Sillinger showing attributes of father ahead of 2021 NHL Draft\n",
      "Sioux Falls center delivering in big moments; NTDP wing Boucher among standouts\n",
      "2021-04-16\n",
      "-----------------\n",
      "2020 NHL Draft first-round pick signings tracker\n",
      "Status of 31 players chosen in opening round\n",
      "2021-04-18\n",
      "-----------------\n",
      "Fantasy hockey top 200 player rankings\n",
      "NHL.com has best standard league options for rest of season after Trade Deadline\n",
      "2021-04-16\n",
      "-----------------\n",
      "Okposo out for season for Sabres with broken cheekbone\n",
      "Forward had surgery after sustaining injury during win against Capitals\n",
      "2021-04-17\n",
      "-----------------\n",
      "Pettersson could be out for season for Canucks with upper-body injury\n",
      "Center won't play when Vancouver returns to play after COIVD-19 outbreak Sunday, has missed 11 games\n",
      "2021-04-16\n",
      "-----------------\n",
      "NHL Fan Skills Class of 2021 announced\n",
      "Celebrity judges select 15 Fan All-Stars who emulated NHL players, created moves on social media\n",
      "2021-04-16\n"
     ]
    }
   ],
   "source": [
    "# Retrieve the parent divs for all articles\n",
    "results = soup.find_all('div', class_='article-item__top')\n",
    "\n",
    "# loop over results to get article data\n",
    "for result in results:\n",
    "    # scrape the article header \n",
    "    header = result.find('h1', class_='article-item__headline').text\n",
    "    \n",
    "    # scrape the article subheader\n",
    "    subheader = result.find('h2', class_='article-item__subheader').text\n",
    "    \n",
    "    # scrape the datetime\n",
    "    datetime = result.find('span', class_='article-item__date')['data-date'] \n",
    "    \n",
    "    # get only the date from the datetime\n",
    "    date = datetime.split('T')[0]\n",
    "    \n",
    "    # print article data\n",
    "    print('-----------------')\n",
    "    print(header)\n",
    "    print(subheader)\n",
    "    print(date)\n",
    "\n",
    "    # Dictionary to be inserted into MongoDB\n",
    "    post = {\n",
    "        'header': header,\n",
    "        'subheader': subheader,\n",
    "        'date': date,\n",
    "    }\n",
    "\n",
    "    # Insert dictionary into MongoDB as a document\n",
    "    collection.insert_one(post)"
   ]
  },
  {
   "cell_type": "code",
   "execution_count": 6,
   "metadata": {},
   "outputs": [
    {
     "name": "stdout",
     "output_type": "stream",
     "text": [
      "{'_id': ObjectId('607ced5a0168866fc92a1a86'), 'header': 'Canucks defeat Maple Leafs in OT in return from COVID-19 pause', 'subheader': 'Horvat scores second goal to win it at 1:19 in first game since March 24', 'date': '2021-04-18'}\n",
      "{'_id': ObjectId('607ced5b0168866fc92a1a87'), 'header': 'Leddy, Islanders defeat Flyers in OT', 'subheader': 'Scores at 2:23; Sorokin has 30-save shutout for New York; Elliott makes 27 for Philadelphia', 'date': '2021-04-18'}\n",
      "{'_id': ObjectId('607ced5b0168866fc92a1a88'), 'header': 'Stone extends multipoint streak to four, Golden Knights defeat Ducks', 'subheader': 'Pacioretty, Roy each has goal, assist for Vegas, which sweeps Anaheim with sixth straight win', 'date': '2021-04-18'}\n",
      "{'_id': ObjectId('607ced5b0168866fc92a1a89'), 'header': 'Marchand scores four points, Bruins top Capitals for fourth win in row', 'subheader': 'Has two goals, two assists to reach 700 NHL points; Ovechkin remains one behind Dionne', 'date': '2021-04-18'}\n",
      "{'_id': ObjectId('607ced5b0168866fc92a1a8a'), 'header': 'Zibanejad, Rangers recover, defeat Devils for four-game sweep', 'subheader': 'Breaks tie late on power play after New York loses three-goal lead', 'date': '2021-04-18'}\n",
      "{'_id': ObjectId('607ced5b0168866fc92a1a8b'), 'header': 'Reinhart scores twice, Sabres end Penguins point streak at five', 'subheader': 'Tokarski makes 34 saves for Buffalo, which is 3-1-1 in its past five games', 'date': '2021-04-18'}\n",
      "{'_id': ObjectId('607ced5b0168866fc92a1a8c'), 'header': \"Marleau's debut remembered on cusp of breaking NHL games played record\", 'subheader': 'Granato, Hrudey, others look back with Sharks forward set to play No. 1,768, pass Howe', 'date': '2021-04-18'}\n",
      "{'_id': ObjectId('607ced5b0168866fc92a1a8d'), 'header': 'NHL Buzz: Chara misses first game for Capitals', 'subheader': 'Halak could return to practice for Bruins on Monday; Roy may be back Tuesday for Kings', 'date': '2021-04-18'}\n",
      "{'_id': ObjectId('607ced5b0168866fc92a1a8e'), 'header': 'Werenski out for season for Blue Jackets with sports hernia', 'subheader': 'Defenseman to need 6-8 weeks to recover from surgery', 'date': '2021-04-18'}\n",
      "{'_id': ObjectId('607ced5b0168866fc92a1a8f'), 'header': 'Fantasy hockey top 10 waiver wire pickups', 'subheader': 'Trade deadline acquisitions Bennett, Bjork producing for new teams; Caufield worth monitoring for Canadiens', 'date': '2021-04-18'}\n",
      "{'_id': ObjectId('607ced5b0168866fc92a1a90'), 'header': 'Sabres miss playoffs again, Eichel injury, penalty kill among culprits', 'subheader': 'Ullmark missing time, lengthy losing skid led to record-tying 10th straight season without berth', 'date': '2021-04-18'}\n",
      "{'_id': ObjectId('607ced5b0168866fc92a1a91'), 'header': \"Bergeron scores Bruins' 21,000th NHL goal in win against Capitals\", 'subheader': 'Boston became second organization to achieve milestone', 'date': '2021-04-18'}\n",
      "{'_id': ObjectId('607ced5b0168866fc92a1a92'), 'header': 'Blackwood, Dell sport custom masks designed by health care workers', 'subheader': 'Devils goalies don special helmets for warmups vs. Rangers, will autograph, auction them off', 'date': '2021-04-18'}\n",
      "{'_id': ObjectId('607ced5b0168866fc92a1a93'), 'header': 'Color of Hockey: Fraser thriving in diversity position with Maple Leafs', 'subheader': \"'Impactful role' proving good fit for former NHL defenseman\", 'date': '2021-04-19'}\n",
      "{'_id': ObjectId('607ced5b0168866fc92a1a94'), 'header': 'Fantasy top 25 line rankings for 2020-21', 'subheader': 'NHL.com lists best units in terms of past chemistry, rest-of-season potential', 'date': '2021-04-18'}\n",
      "{'_id': ObjectId('607ced5b0168866fc92a1a95'), 'header': \"Coyotes add Leighton Accardo's number to Ring of Honor\", 'subheader': 'Inspiring nine-year-old who died of cancer Nov. 24 left lasting legacy in Arizona', 'date': '2021-04-17'}\n",
      "{'_id': ObjectId('607ced5b0168866fc92a1a96'), 'header': 'Marleau ties record for most games played in NHL history set by Howe', 'subheader': 'Sharks forward skates in No. 1,767; can set mark Monday', 'date': '2021-04-18'}\n",
      "{'_id': ObjectId('607ced5b0168866fc92a1a97'), 'header': 'Avalanche have three games postponed due to COVID-19 protocol', 'subheader': 'Targeting April 21 for return; Donskoi third player placed on list after Grubauer, Byram', 'date': '2021-04-18'}\n",
      "{'_id': ObjectId('607ced5b0168866fc92a1a98'), 'header': 'Stamkos out until May for Lightning with lower-body injury', 'subheader': \"Tampa Bay hopes forward 'in tip-top shape' for playoffs\", 'date': '2021-04-17'}\n",
      "{'_id': ObjectId('607ced5b0168866fc92a1a99'), 'header': 'NHL DFS player picks, projections, strategy', 'subheader': 'Hintz looks to stay hot, worth stacking with linemates Robertson and Pavelski; Monday daily fantasy targets', 'date': '2021-04-18'}\n",
      "{'_id': ObjectId('607ced5b0168866fc92a1a9a'), 'header': 'Sabres, Penguins join forces for Pride game', 'subheader': 'Teams sport unique warmup jerseys, auction off other apparel for LGBTQ+ rights', 'date': '2021-04-17'}\n",
      "{'_id': ObjectId('607ced5b0168866fc92a1a9b'), 'header': 'NHL announces updates to 2020-21 regular-season schedule', 'subheader': 'Extended with North Division games through May 19', 'date': '2021-04-16'}\n",
      "{'_id': ObjectId('607ced5b0168866fc92a1a9c'), 'header': 'Sillinger showing attributes of father ahead of 2021 NHL Draft', 'subheader': 'Sioux Falls center delivering in big moments; NTDP wing Boucher among standouts', 'date': '2021-04-16'}\n",
      "{'_id': ObjectId('607ced5b0168866fc92a1a9d'), 'header': '2020 NHL Draft first-round pick signings tracker', 'subheader': 'Status of 31 players chosen in opening round', 'date': '2021-04-18'}\n",
      "{'_id': ObjectId('607ced5b0168866fc92a1a9e'), 'header': 'Fantasy hockey top 200 player rankings', 'subheader': 'NHL.com has best standard league options for rest of season after Trade Deadline', 'date': '2021-04-16'}\n",
      "{'_id': ObjectId('607ced5b0168866fc92a1a9f'), 'header': 'Okposo out for season for Sabres with broken cheekbone', 'subheader': 'Forward had surgery after sustaining injury during win against Capitals', 'date': '2021-04-17'}\n",
      "{'_id': ObjectId('607ced5b0168866fc92a1aa0'), 'header': 'Pettersson could be out for season for Canucks with upper-body injury', 'subheader': \"Center won't play when Vancouver returns to play after COIVD-19 outbreak Sunday, has missed 11 games\", 'date': '2021-04-16'}\n",
      "{'_id': ObjectId('607ced5b0168866fc92a1aa1'), 'header': 'NHL Fan Skills Class of 2021 announced', 'subheader': 'Celebrity judges select 15 Fan All-Stars who emulated NHL players, created moves on social media', 'date': '2021-04-16'}\n"
     ]
    }
   ],
   "source": [
    "# Display the MongoDB records created above\n",
    "articles = db.articles.find()\n",
    "for article in articles:\n",
    "    print(article)"
   ]
  },
  {
   "cell_type": "code",
   "execution_count": null,
   "metadata": {},
   "outputs": [],
   "source": []
  }
 ],
 "metadata": {
  "kernelspec": {
   "display_name": "Python [conda env:PythonData] *",
   "language": "python",
   "name": "conda-env-PythonData-py"
  },
  "language_info": {
   "codemirror_mode": {
    "name": "ipython",
    "version": 3
   },
   "file_extension": ".py",
   "mimetype": "text/x-python",
   "name": "python",
   "nbconvert_exporter": "python",
   "pygments_lexer": "ipython3",
   "version": "3.6.10"
  },
  "varInspector": {
   "cols": {
    "lenName": 16,
    "lenType": 16,
    "lenVar": 40
   },
   "kernels_config": {
    "python": {
     "delete_cmd_postfix": "",
     "delete_cmd_prefix": "del ",
     "library": "var_list.py",
     "varRefreshCmd": "print(var_dic_list())"
    },
    "r": {
     "delete_cmd_postfix": ") ",
     "delete_cmd_prefix": "rm(",
     "library": "var_list.r",
     "varRefreshCmd": "cat(var_dic_list()) "
    }
   },
   "types_to_exclude": [
    "module",
    "function",
    "builtin_function_or_method",
    "instance",
    "_Feature"
   ],
   "window_display": false
  }
 },
 "nbformat": 4,
 "nbformat_minor": 2
}
