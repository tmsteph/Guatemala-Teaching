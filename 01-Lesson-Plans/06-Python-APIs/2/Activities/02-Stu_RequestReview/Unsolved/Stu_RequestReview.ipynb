{
 "cells": [
  {
   "cell_type": "code",
   "execution_count": 6,
   "metadata": {},
   "outputs": [],
   "source": [
    "# Dependencies\n",
    "import json\n",
    "import requests "
   ]
  },
  {
   "cell_type": "code",
   "execution_count": 10,
   "metadata": {},
   "outputs": [
    {
     "data": {
      "text/plain": [
       "<Response [200]>"
      ]
     },
     "execution_count": 10,
     "metadata": {},
     "output_type": "execute_result"
    }
   ],
   "source": [
    "# Specify the URL\n",
    "url = 'http://nyt-mongo-scraper.herokuapp.com/api/headlines'\n",
    "# Make request and store response\n",
    "response = requests.get(url)\n",
    "response"
   ]
  },
  {
   "cell_type": "code",
   "execution_count": 13,
   "metadata": {},
   "outputs": [
    {
     "data": {
      "text/plain": [
       "[{'saved': False,\n",
       "  '_id': '604ad780b1f67400156dbf66',\n",
       "  'headline': 'A Drone Went Bowling. Hollywood Noticed.',\n",
       "  'summary': 'A drone video shot in a Minneapolis bowling alley was hailed as a classic. One Hollywood veteran said it “adds to the language and vocabulary of cinema.”',\n",
       "  'url': 'https://www.nytimes.com/2021/03/11/us/drone-bowling-alley.html',\n",
       "  'date': '2021-03-12T02:52:48.956Z',\n",
       "  '__v': 0},\n",
       " {'saved': False,\n",
       "  '_id': '604ad780b1f67400156dbf64',\n",
       "  'headline': '‘I Really Hope I Don’t Have It,’ a Sick Teenager Told Me',\n",
       "  'summary': 'The losses emergency responders witnessed last spring are beyond what human minds can grasp.',\n",
       "  'url': 'https://www.nytimes.com/2021/03/11/opinion/covid-new-york-emt.html',\n",
       "  'date': '2021-03-12T02:52:48.946Z',\n",
       "  '__v': 0},\n",
       " {'saved': True,\n",
       "  '_id': '604ad76db1f67400156dbf62',\n",
       "  'headline': 'Grammys Ready Pandemic Show, as the Weeknd Boycotts Future Awards\\u200b',\n",
       "  'summary': 'The Weeknd, who was snubbed, says he will boycott the awards going forward, in a sign of continuing friction with artists.',\n",
       "  'url': 'https://www.nytimes.com/2021/03/11/arts/music/grammys-the-weeknd-beyonce.html',\n",
       "  'date': '2021-03-12T02:52:29.876Z',\n",
       "  '__v': 0}]"
      ]
     },
     "execution_count": 13,
     "metadata": {},
     "output_type": "execute_result"
    }
   ],
   "source": [
    "# JSON-ify response\n",
    "jsoned = response.json()\n",
    "jsoned"
   ]
  },
  {
   "cell_type": "code",
   "execution_count": 16,
   "metadata": {
    "scrolled": true
   },
   "outputs": [
    {
     "name": "stdout",
     "output_type": "stream",
     "text": [
      "{'saved': False, '_id': '604ad780b1f67400156dbf66', 'headline': 'A Drone Went Bowling. Hollywood Noticed.', 'summary': 'A drone video shot in a Minneapolis bowling alley was hailed as a classic. One Hollywood veteran said it “adds to the language and vocabulary of cinema.”', 'url': 'https://www.nytimes.com/2021/03/11/us/drone-bowling-alley.html', 'date': '2021-03-12T02:52:48.956Z', '__v': 0} {'saved': True, '_id': '604ad76db1f67400156dbf62', 'headline': 'Grammys Ready Pandemic Show, as the Weeknd Boycotts Future Awards\\u200b', 'summary': 'The Weeknd, who was snubbed, says he will boycott the awards going forward, in a sign of continuing friction with artists.', 'url': 'https://www.nytimes.com/2021/03/11/arts/music/grammys-the-weeknd-beyonce.html', 'date': '2021-03-12T02:52:29.876Z', '__v': 0}\n"
     ]
    }
   ],
   "source": [
    "# Print first and last articles\n",
    "print(jsoned[0], jsoned[-1])"
   ]
  },
  {
   "cell_type": "code",
   "execution_count": 21,
   "metadata": {},
   "outputs": [
    {
     "name": "stdout",
     "output_type": "stream",
     "text": [
      "3\n"
     ]
    }
   ],
   "source": [
    "#Print the number of responses received.\n",
    "print (len(jsoned))"
   ]
  },
  {
   "cell_type": "code",
   "execution_count": null,
   "metadata": {},
   "outputs": [],
   "source": []
  }
 ],
 "metadata": {
  "kernelspec": {
   "display_name": "Python 3",
   "language": "python",
   "name": "python3"
  },
  "language_info": {
   "codemirror_mode": {
    "name": "ipython",
    "version": 3
   },
   "file_extension": ".py",
   "mimetype": "text/x-python",
   "name": "python",
   "nbconvert_exporter": "python",
   "pygments_lexer": "ipython3",
   "version": "3.6.10"
  },
  "varInspector": {
   "cols": {
    "lenName": 16,
    "lenType": 16,
    "lenVar": 40
   },
   "kernels_config": {
    "python": {
     "delete_cmd_postfix": "",
     "delete_cmd_prefix": "del ",
     "library": "var_list.py",
     "varRefreshCmd": "print(var_dic_list())"
    },
    "r": {
     "delete_cmd_postfix": ") ",
     "delete_cmd_prefix": "rm(",
     "library": "var_list.r",
     "varRefreshCmd": "cat(var_dic_list()) "
    }
   },
   "types_to_exclude": [
    "module",
    "function",
    "builtin_function_or_method",
    "instance",
    "_Feature"
   ],
   "window_display": false
  }
 },
 "nbformat": 4,
 "nbformat_minor": 2
}
