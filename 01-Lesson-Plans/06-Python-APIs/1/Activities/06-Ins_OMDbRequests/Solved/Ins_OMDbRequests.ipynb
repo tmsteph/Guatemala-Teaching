{
 "cells": [
  {
   "cell_type": "code",
   "execution_count": 1,
   "metadata": {},
   "outputs": [],
   "source": [
    "import requests\n",
    "import json\n",
    "from config import api_key, key_dict"
   ]
  },
  {
   "cell_type": "code",
   "execution_count": 2,
   "metadata": {},
   "outputs": [],
   "source": [
    "# New Dependency! Use this to pretty print the JSON\n",
    "# https://docs.python.org/3/library/pprint.html\n",
    "from pprint import pprint"
   ]
  },
  {
   "cell_type": "code",
   "execution_count": 3,
   "metadata": {},
   "outputs": [],
   "source": [
    "# Shenanigans to prevent me from checking-in my API keys...\n",
    "if 'omdb' in key_dict:\n",
    "    omdb_key = key_dict['omdb']\n",
    "    \n",
    "else:\n",
    "    omdb_key = \"&apikey=\" + api_key"
   ]
  },
  {
   "cell_type": "code",
   "execution_count": 4,
   "metadata": {},
   "outputs": [],
   "source": [
    "# Note that the ?t= is a query param for the t-itle of the\n",
    "# movie we want to search for.\n",
    "url = \"http://www.omdbapi.com/?t=\"\n",
    "omdb_key = \"&apikey=\" + omdb_key\n",
    "\n",
    "# The standard format for URLs looks like:\n",
    "# http(s)://<some>.<domain>.<name>.<TLD>/<resource>/<resource/.../?<param>=<value>&<param>=<value>\n",
    "# What happens when there are ? or & symbols in your params??  We'll find out soon..."
   ]
  },
  {
   "cell_type": "code",
   "execution_count": 5,
   "metadata": {},
   "outputs": [],
   "source": [
    "# Performing a GET request similar to the one we executed\n",
    "# earlier\n",
    "response = requests.get(url + \"Blues Brothers\" + omdb_key)"
   ]
  },
  {
   "cell_type": "code",
   "execution_count": 6,
   "metadata": {},
   "outputs": [
    {
     "name": "stdout",
     "output_type": "stream",
     "text": [
      "{'Actors': 'Tom Erhart, Gerald Walling, John Belushi, Walter Levine',\n",
      " 'Awards': '2 wins & 1 nomination.',\n",
      " 'BoxOffice': '$57,229,890',\n",
      " 'Country': 'USA',\n",
      " 'DVD': '15 Jun 2012',\n",
      " 'Director': 'John Landis',\n",
      " 'Genre': 'Action, Adventure, Comedy, Crime, Music, Musical',\n",
      " 'Language': 'English',\n",
      " 'Metascore': '60',\n",
      " 'Plot': 'Jake Blues, just released from prison, puts together his old band to '\n",
      "         'save the Catholic home where he and his brother Elwood were raised.',\n",
      " 'Poster': 'https://m.media-amazon.com/images/M/MV5BYTdlMDExOGUtN2I3MS00MjY5LWE1NTAtYzc3MzIxN2M3OWY1XkEyXkFqcGdeQXVyNzkwMjQ5NzM@._V1_SX300.jpg',\n",
      " 'Production': 'Universal Pictures',\n",
      " 'Rated': 'R',\n",
      " 'Ratings': [{'Source': 'Internet Movie Database', 'Value': '7.9/10'},\n",
      "             {'Source': 'Rotten Tomatoes', 'Value': '73%'},\n",
      "             {'Source': 'Metacritic', 'Value': '60/100'}],\n",
      " 'Released': '20 Jun 1980',\n",
      " 'Response': 'True',\n",
      " 'Runtime': '133 min',\n",
      " 'Title': 'The Blues Brothers',\n",
      " 'Type': 'movie',\n",
      " 'Website': 'N/A',\n",
      " 'Writer': 'Dan Aykroyd, John Landis',\n",
      " 'Year': '1980',\n",
      " 'imdbID': 'tt0080455',\n",
      " 'imdbRating': '7.9',\n",
      " 'imdbVotes': '183,757'}\n"
     ]
    }
   ],
   "source": [
    "# Converting the response to JSON, and printing the result.\n",
    "data = response.json()\n",
    "pprint(data)"
   ]
  },
  {
   "cell_type": "code",
   "execution_count": null,
   "metadata": {},
   "outputs": [],
   "source": [
    "# Print a few keys from the response JSON.\n",
    "print(f\"Movie was directed by {data['Director']}.\")\n",
    "print(f\"Movie was released in {data['Country']}.\")"
   ]
  },
  {
   "cell_type": "code",
   "execution_count": null,
   "metadata": {},
   "outputs": [],
   "source": []
  }
 ],
 "metadata": {
  "kernelspec": {
   "display_name": "Python 3",
   "language": "python",
   "name": "python3"
  },
  "language_info": {
   "codemirror_mode": {
    "name": "ipython",
    "version": 3
   },
   "file_extension": ".py",
   "mimetype": "text/x-python",
   "name": "python",
   "nbconvert_exporter": "python",
   "pygments_lexer": "ipython3",
   "version": "3.6.10"
  },
  "varInspector": {
   "cols": {
    "lenName": 16,
    "lenType": 16,
    "lenVar": 40
   },
   "kernels_config": {
    "python": {
     "delete_cmd_postfix": "",
     "delete_cmd_prefix": "del ",
     "library": "var_list.py",
     "varRefreshCmd": "print(var_dic_list())"
    },
    "r": {
     "delete_cmd_postfix": ") ",
     "delete_cmd_prefix": "rm(",
     "library": "var_list.r",
     "varRefreshCmd": "cat(var_dic_list()) "
    }
   },
   "types_to_exclude": [
    "module",
    "function",
    "builtin_function_or_method",
    "instance",
    "_Feature"
   ],
   "window_display": false
  }
 },
 "nbformat": 4,
 "nbformat_minor": 2
}
